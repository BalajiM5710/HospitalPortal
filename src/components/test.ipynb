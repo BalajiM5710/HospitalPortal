{
 "cells": [
  {
   "cell_type": "code",
   "execution_count": 43,
   "metadata": {},
   "outputs": [
    {
     "name": "stdout",
     "output_type": "stream",
     "text": [
      "Raw response from the server: {\n",
      "  \"predicted_class\": 0,\n",
      "  \"predicted_disease\": \"COPD\",\n",
      "  \"prediction\": [\n",
      "    [\n",
      "      0.9999998807907104,\n",
      "      1.2394168390857296e-24,\n",
      "      1.1688408323914426e-32,\n",
      "      1.3112237695622753e-07,\n",
      "      1.1049893020583187e-20\n",
      "    ]\n",
      "  ]\n",
      "}\n",
      "\n",
      "JSON response: {'predicted_class': 0, 'predicted_disease': 'COPD', 'prediction': [[0.9999998807907104, 1.2394168390857296e-24, 1.1688408323914426e-32, 1.3112237695622753e-07, 1.1049893020583187e-20]]}\n"
     ]
    }
   ],
   "source": [
    "import requests\n",
    "\n",
    "url = 'http://localhost:5000/predict/respiratory'\n",
    "files = {'file': open('C:\\\\Users\\\\Dell\\\\Downloads\\\\109_1b1_Ll_sc_Litt3200.wav', 'rb')}\n",
    "\n",
    "try:\n",
    "    response = requests.post(url, files=files)\n",
    "\n",
    "    # Print the raw response text\n",
    "    print(\"Raw response from the server:\", response.text)\n",
    "\n",
    "    # Attempt to decode the JSON response\n",
    "    response_data = response.json()\n",
    "    print(\"JSON response:\", response_data)\n",
    "\n",
    "except requests.exceptions.RequestException as e:\n",
    "    print(f\"Request failed: {e}\")\n",
    "except ValueError as e:\n",
    "    print(\"Failed to decode JSON:\", e)\n"
   ]
  },
  {
   "cell_type": "code",
   "execution_count": 7,
   "metadata": {},
   "outputs": [
    {
     "name": "stdout",
     "output_type": "stream",
     "text": [
      "{'result': 'Diabetes'}\n"
     ]
    }
   ],
   "source": [
    "import requests\n",
    "\n",
    "# URL for the diabetes prediction endpoint\n",
    "url = 'http://127.0.0.1:5000/api/predict/diabetes'  # Make sure your Flask app is running\n",
    "\n",
    "# Sample input data for diabetes prediction\n",
    "test_input = {\n",
    "    \"Pregnancies\": 2,\n",
    "    \"Glucose\": 150,\n",
    "    \"BloodPressure\": 80,\n",
    "    \"SkinThickness\": 35,\n",
    "    \"Insulin\": 0,\n",
    "    \"BMI\": 32.0,\n",
    "    \"DiabetesPedigreeFunction\": 0.627,\n",
    "    \"Age\": 50\n",
    "}\n",
    "\n",
    "# Send a POST request to the diabetes prediction endpoint\n",
    "response = requests.post(url, json=test_input)\n",
    "\n",
    "# Print the response\n",
    "try:\n",
    "    # Try to parse the JSON response\n",
    "    print(response.json())\n",
    "except ValueError:\n",
    "    # If JSON decoding fails, print the response text\n",
    "    print('Response text:', response.text)\n"
   ]
  },
  {
   "cell_type": "code",
   "execution_count": 8,
   "metadata": {},
   "outputs": [
    {
     "name": "stdout",
     "output_type": "stream",
     "text": [
      "{'error': 'Object of type int64 is not JSON serializable'}\n"
     ]
    }
   ],
   "source": [
    "import requests\n",
    "\n",
    "# Sample input data for heart disease prediction\n",
    "test_input = {\n",
    "    \"age\": 55,\n",
    "    \"sex\": 1,  # 1 = male, 0 = female\n",
    "    \"cp\": 0,   # Chest pain type (0-3)\n",
    "    \"trestbps\": 140,  # Resting blood pressure\n",
    "    \"chol\": 230,  # Cholesterol in mg/dl\n",
    "    \"fbs\": 0,  # Fasting blood sugar > 120 mg/dl (1 = true, 0 = false)\n",
    "    \"restecg\": 1,  # Resting electrocardiographic results (0-2)\n",
    "    \"thalach\": 150,  # Maximum heart rate achieved\n",
    "    \"exang\": 0,  # Exercise induced angina (1 = yes, 0 = no)\n",
    "    \"oldpeak\": 2.5,  # ST depression induced by exercise relative to rest\n",
    "    \"slope\": 1,  # Slope of the peak exercise ST segment (0-2)\n",
    "    \"ca\": 0,  # Number of major vessels (0-3) colored by fluoroscopy\n",
    "    \"thal\": 2   # Thalassemia (1 = normal; 2 = fixed defect; 3 = reversable defect)\n",
    "}\n",
    "\n",
    "# Send POST request to the heart prediction endpoint\n",
    "response = requests.post('http://127.0.0.1:5000/api/predict/heart', json=test_input)\n",
    "\n",
    "# Print the response\n",
    "print(response.json())\n"
   ]
  },
  {
   "cell_type": "code",
   "execution_count": null,
   "metadata": {},
   "outputs": [],
   "source": []
  }
 ],
 "metadata": {
  "kernelspec": {
   "display_name": "tfenv",
   "language": "python",
   "name": "python3"
  },
  "language_info": {
   "codemirror_mode": {
    "name": "ipython",
    "version": 3
   },
   "file_extension": ".py",
   "mimetype": "text/x-python",
   "name": "python",
   "nbconvert_exporter": "python",
   "pygments_lexer": "ipython3",
   "version": "3.12.3"
  }
 },
 "nbformat": 4,
 "nbformat_minor": 2
}
